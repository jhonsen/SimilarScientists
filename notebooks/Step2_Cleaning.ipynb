{
 "cells": [
  {
   "cell_type": "markdown",
   "metadata": {},
   "source": [
    "## Cleaning Dataset"
   ]
  },
  {
   "cell_type": "code",
   "execution_count": 1,
   "metadata": {},
   "outputs": [],
   "source": [
    "import pandas as pd\n",
    "import numpy as np\n",
    "import re\n",
    "import string\n",
    "\n",
    "import pickle"
   ]
  },
  {
   "cell_type": "code",
   "execution_count": null,
   "metadata": {},
   "outputs": [],
   "source": [
    "# nltk.data.path.append('/Users/jhonsen/Documents/DS/nltk_data/')\n",
    "# nltk.download('wordnet', download_dir='/Users/jhonsen/Documents/DS/nltk_data/')"
   ]
  },
  {
   "cell_type": "markdown",
   "metadata": {},
   "source": [
    "### Importing Pickled Dataframe"
   ]
  },
  {
   "cell_type": "code",
   "execution_count": 2,
   "metadata": {},
   "outputs": [],
   "source": [
    "# Unpickle the dataframe\n",
    "with open('../data/dfraw.pkl','rb') as fin:\n",
    "    df = pickle.load(fin)"
   ]
  },
  {
   "cell_type": "code",
   "execution_count": 3,
   "metadata": {},
   "outputs": [
    {
     "data": {
      "text/html": [
       "<div>\n",
       "<style scoped>\n",
       "    .dataframe tbody tr th:only-of-type {\n",
       "        vertical-align: middle;\n",
       "    }\n",
       "\n",
       "    .dataframe tbody tr th {\n",
       "        vertical-align: top;\n",
       "    }\n",
       "\n",
       "    .dataframe thead th {\n",
       "        text-align: right;\n",
       "    }\n",
       "</style>\n",
       "<table border=\"1\" class=\"dataframe\">\n",
       "  <thead>\n",
       "    <tr style=\"text-align: right;\">\n",
       "      <th></th>\n",
       "      <th>title</th>\n",
       "      <th>summary</th>\n",
       "    </tr>\n",
       "  </thead>\n",
       "  <tbody>\n",
       "    <tr>\n",
       "      <th>0</th>\n",
       "      <td>1001 Gaussia</td>\n",
       "      <td>Gaussia (minor planet designation: 1001 Gaussi...</td>\n",
       "    </tr>\n",
       "    <tr>\n",
       "      <th>1</th>\n",
       "      <td>List of minor planets: 13001–14000</td>\n",
       "      <td>The following is a partial list of minor plane...</td>\n",
       "    </tr>\n",
       "    <tr>\n",
       "      <th>2</th>\n",
       "      <td>1332 Marconia</td>\n",
       "      <td>1332 Marconia, provisional designation 1934 AA...</td>\n",
       "    </tr>\n",
       "    <tr>\n",
       "      <th>3</th>\n",
       "      <td>1548 capture of Aden</td>\n",
       "      <td>== Background ==\\n\\nThe Capture of Aden of 154...</td>\n",
       "    </tr>\n",
       "    <tr>\n",
       "      <th>4</th>\n",
       "      <td>1691 Oort</td>\n",
       "      <td>1691 Oort, provisional designation 1956 RB, is...</td>\n",
       "    </tr>\n",
       "  </tbody>\n",
       "</table>\n",
       "</div>"
      ],
      "text/plain": [
       "                                title  \\\n",
       "0                        1001 Gaussia   \n",
       "1  List of minor planets: 13001–14000   \n",
       "2                       1332 Marconia   \n",
       "3                1548 capture of Aden   \n",
       "4                           1691 Oort   \n",
       "\n",
       "                                             summary  \n",
       "0  Gaussia (minor planet designation: 1001 Gaussi...  \n",
       "1  The following is a partial list of minor plane...  \n",
       "2  1332 Marconia, provisional designation 1934 AA...  \n",
       "3  == Background ==\\n\\nThe Capture of Aden of 154...  \n",
       "4  1691 Oort, provisional designation 1956 RB, is...  "
      ]
     },
     "execution_count": 3,
     "metadata": {},
     "output_type": "execute_result"
    }
   ],
   "source": [
    "df.head()"
   ]
  },
  {
   "cell_type": "code",
   "execution_count": 4,
   "metadata": {},
   "outputs": [
    {
     "name": "stdout",
     "output_type": "stream",
     "text": [
      "original dimension:  (15490, 2)\n"
     ]
    }
   ],
   "source": [
    "print('original dimension: ',df.shape)"
   ]
  },
  {
   "cell_type": "markdown",
   "metadata": {},
   "source": [
    "#### Pre-processing entries in `summary` and `title` columns in dataframe\n",
    "- [x] Remove articles containing \"Lists_of_\" in the `title`\n",
    "- [x] Remove first 24 entries, unrelated to scientists\n",
    "- [x] Drop any duplicates\n",
    "- [ ] Remove additional textual inconsistencies"
   ]
  },
  {
   "cell_type": "code",
   "execution_count": 5,
   "metadata": {},
   "outputs": [],
   "source": [
    "# Remove entries with \"Lists\", which are not articles about scientists (person)  \n",
    "df = df[~df['title'].str.contains('List')]"
   ]
  },
  {
   "cell_type": "code",
   "execution_count": 6,
   "metadata": {},
   "outputs": [],
   "source": [
    "# Remove first 24 entries, not related to scientists\n",
    "df = df[df.index>24]"
   ]
  },
  {
   "cell_type": "code",
   "execution_count": 7,
   "metadata": {},
   "outputs": [
    {
     "name": "stdout",
     "output_type": "stream",
     "text": [
      "(15044, 2)\n",
      "(15042, 2)\n"
     ]
    }
   ],
   "source": [
    "# Drop duplicated rows\n",
    "print(df.shape)\n",
    "df.drop_duplicates(inplace=True)\n",
    "print(df.shape)"
   ]
  },
  {
   "cell_type": "code",
   "execution_count": 8,
   "metadata": {},
   "outputs": [],
   "source": [
    "# Replace \\n with  space ' '\n",
    "df['summary']= df['summary'].apply(lambda s: s.replace('\\n',' '))"
   ]
  },
  {
   "cell_type": "code",
   "execution_count": 9,
   "metadata": {},
   "outputs": [],
   "source": [
    "# For now, remove observations containing '== Background ==' in `summary`\n",
    "df = df[~df['summary'].str.contains('==')]"
   ]
  },
  {
   "cell_type": "code",
   "execution_count": 10,
   "metadata": {},
   "outputs": [
    {
     "data": {
      "text/html": [
       "<div>\n",
       "<style scoped>\n",
       "    .dataframe tbody tr th:only-of-type {\n",
       "        vertical-align: middle;\n",
       "    }\n",
       "\n",
       "    .dataframe tbody tr th {\n",
       "        vertical-align: top;\n",
       "    }\n",
       "\n",
       "    .dataframe thead th {\n",
       "        text-align: right;\n",
       "    }\n",
       "</style>\n",
       "<table border=\"1\" class=\"dataframe\">\n",
       "  <thead>\n",
       "    <tr style=\"text-align: right;\">\n",
       "      <th></th>\n",
       "      <th>title</th>\n",
       "      <th>summary</th>\n",
       "    </tr>\n",
       "  </thead>\n",
       "  <tbody>\n",
       "    <tr>\n",
       "      <th>13119</th>\n",
       "      <td>Seok-Hyun_\\Andy\\\"_Yun\"</td>\n",
       "      <td></td>\n",
       "    </tr>\n",
       "    <tr>\n",
       "      <th>13873</th>\n",
       "      <td>Temperance_\\Bones\\\"_Brennan\"</td>\n",
       "      <td></td>\n",
       "    </tr>\n",
       "    <tr>\n",
       "      <th>14137</th>\n",
       "      <td>Thomas_J._\\Long_Tom\\\"_Roberts\"</td>\n",
       "      <td></td>\n",
       "    </tr>\n",
       "    <tr>\n",
       "      <th>14944</th>\n",
       "      <td>William_\\Bill\\\"_Ralph_Merton\"</td>\n",
       "      <td></td>\n",
       "    </tr>\n",
       "  </tbody>\n",
       "</table>\n",
       "</div>"
      ],
      "text/plain": [
       "                                title summary\n",
       "13119          Seok-Hyun_\\Andy\\\"_Yun\"        \n",
       "13873    Temperance_\\Bones\\\"_Brennan\"        \n",
       "14137  Thomas_J._\\Long_Tom\\\"_Roberts\"        \n",
       "14944   William_\\Bill\\\"_Ralph_Merton\"        "
      ]
     },
     "execution_count": 10,
     "metadata": {},
     "output_type": "execute_result"
    }
   ],
   "source": [
    "# Check for articles with empty `summary` \n",
    "df[df.summary=='']"
   ]
  },
  {
   "cell_type": "code",
   "execution_count": 11,
   "metadata": {},
   "outputs": [],
   "source": [
    "# Removing those empty summaries\n",
    "df.drop(index=13119, inplace=True)\n",
    "df.drop(index=13873, inplace=True)\n",
    "df.drop(index=14137, inplace=True)\n",
    "df.drop(index=14944, inplace=True)"
   ]
  },
  {
   "cell_type": "code",
   "execution_count": null,
   "metadata": {},
   "outputs": [],
   "source": [
    "# Remove observations that are not scientists, titles such as Aristotle's works, Albert Einstein's Theory of Relativity\n",
    "\n",
    "#"
   ]
  },
  {
   "cell_type": "code",
   "execution_count": null,
   "metadata": {},
   "outputs": [],
   "source": [
    "# Remove observations that are entitled 'Theory_', which are not persons (scientists)\n",
    "\n",
    "#"
   ]
  },
  {
   "cell_type": "code",
   "execution_count": 12,
   "metadata": {},
   "outputs": [
    {
     "name": "stdout",
     "output_type": "stream",
     "text": [
      "dimension after processing:  (13625, 2)\n"
     ]
    }
   ],
   "source": [
    "print('dimension after processing: ', df.shape)"
   ]
  },
  {
   "cell_type": "code",
   "execution_count": 14,
   "metadata": {},
   "outputs": [],
   "source": [
    "# Write processed data as csv, just in case\n",
    "df.to_csv('../data/df_processed.csv',index=False)"
   ]
  },
  {
   "cell_type": "code",
   "execution_count": 15,
   "metadata": {},
   "outputs": [],
   "source": [
    "# Pickle the processed file\n",
    "with open('../data/fclean.pkl','wb') as fout:\n",
    "    pickle.dump(df, fout)"
   ]
  },
  {
   "cell_type": "markdown",
   "metadata": {},
   "source": [
    "Next Step:\n",
    "- Topic Modeling of these articles, Step3_Modeling.ipynb"
   ]
  },
  {
   "cell_type": "markdown",
   "metadata": {},
   "source": [
    "---"
   ]
  }
 ],
 "metadata": {
  "kernelspec": {
   "display_name": "Python 3",
   "language": "python",
   "name": "python3"
  },
  "language_info": {
   "codemirror_mode": {
    "name": "ipython",
    "version": 3
   },
   "file_extension": ".py",
   "mimetype": "text/x-python",
   "name": "python",
   "nbconvert_exporter": "python",
   "pygments_lexer": "ipython3",
   "version": "3.6.6"
  }
 },
 "nbformat": 4,
 "nbformat_minor": 2
}
